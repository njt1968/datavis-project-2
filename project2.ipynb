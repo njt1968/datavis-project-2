{
 "cells": [
  {
   "cell_type": "code",
   "execution_count": 22,
   "metadata": {},
   "outputs": [],
   "source": [
    "import pandas as pd"
   ]
  },
  {
   "cell_type": "code",
   "execution_count": 23,
   "metadata": {},
   "outputs": [
    {
     "name": "stderr",
     "output_type": "stream",
     "text": [
      "C:\\Users\\tutin\\AppData\\Local\\Temp\\ipykernel_53372\\1369628865.py:3: DtypeWarning: Columns (4) have mixed types. Specify dtype option on import or set low_memory=False.\n",
      "  df = pd.read_csv(f\"./datasets/Morticd10_part{i}.csv\")\n",
      "C:\\Users\\tutin\\AppData\\Local\\Temp\\ipykernel_53372\\1369628865.py:3: DtypeWarning: Columns (4) have mixed types. Specify dtype option on import or set low_memory=False.\n",
      "  df = pd.read_csv(f\"./datasets/Morticd10_part{i}.csv\")\n",
      "C:\\Users\\tutin\\AppData\\Local\\Temp\\ipykernel_53372\\1369628865.py:3: DtypeWarning: Columns (2) have mixed types. Specify dtype option on import or set low_memory=False.\n",
      "  df = pd.read_csv(f\"./datasets/Morticd10_part{i}.csv\")\n",
      "C:\\Users\\tutin\\AppData\\Local\\Temp\\ipykernel_53372\\1369628865.py:3: DtypeWarning: Columns (2) have mixed types. Specify dtype option on import or set low_memory=False.\n",
      "  df = pd.read_csv(f\"./datasets/Morticd10_part{i}.csv\")\n",
      "C:\\Users\\tutin\\AppData\\Local\\Temp\\ipykernel_53372\\1369628865.py:3: DtypeWarning: Columns (2) have mixed types. Specify dtype option on import or set low_memory=False.\n",
      "  df = pd.read_csv(f\"./datasets/Morticd10_part{i}.csv\")\n"
     ]
    }
   ],
   "source": [
    "# Loading all 5 csvs\n",
    "data = []\n",
    "for i in range(1, 6):\n",
    "\tdf = pd.read_csv(f\"./datasets/Morticd10_part{i}.csv\")\n",
    "\tdata.append(df)\n"
   ]
  },
  {
   "cell_type": "code",
   "execution_count": 24,
   "metadata": {},
   "outputs": [],
   "source": [
    "# Concatenating all csvs into a single dataframe\n",
    "combined = pd.concat(data)\n"
   ]
  },
  {
   "cell_type": "code",
   "execution_count": 25,
   "metadata": {},
   "outputs": [],
   "source": [
    "# All data should start from the year 2001\n",
    "combined = combined[combined['Year'] >= 2001]"
   ]
  },
  {
   "cell_type": "code",
   "execution_count": 26,
   "metadata": {},
   "outputs": [],
   "source": [
    "# Make a new column that totals all deaths\n",
    "combined['TotalDeaths'] = combined.iloc[:, 9:37].sum(axis=1)"
   ]
  },
  {
   "cell_type": "code",
   "execution_count": 28,
   "metadata": {},
   "outputs": [],
   "source": [
    "# New dataframe that sums total deaths per country\n",
    "by_country = combined.groupby('Country')['TotalDeaths'].sum()"
   ]
  },
  {
   "cell_type": "code",
   "execution_count": 29,
   "metadata": {},
   "outputs": [
    {
     "data": {
      "text/plain": [
       "Country\n",
       "1060       21882.0\n",
       "1125    38267326.0\n",
       "1250      138462.0\n",
       "1300      661860.0\n",
       "1303        7084.0\n",
       "1310     2725736.0\n",
       "1360      142954.0\n",
       "1365       12074.0\n",
       "1400       81729.0\n",
       "1430    37965550.0\n",
       "Name: TotalDeaths, dtype: float64"
      ]
     },
     "execution_count": 29,
     "metadata": {},
     "output_type": "execute_result"
    }
   ],
   "source": [
    "by_country.head(10)"
   ]
  },
  {
   "cell_type": "code",
   "execution_count": 30,
   "metadata": {},
   "outputs": [],
   "source": [
    "# New dataframe that sums deaths per year for every tracked country\n",
    "by_year = combined.groupby('Year')['TotalDeaths'].sum()\n"
   ]
  },
  {
   "cell_type": "code",
   "execution_count": 31,
   "metadata": {},
   "outputs": [
    {
     "data": {
      "text/plain": [
       "Year\n",
       "2001    70591912.0\n",
       "2002    75046906.0\n",
       "2003    74058501.0\n",
       "2004    71675414.0\n",
       "2005    77125646.0\n",
       "2006    77390173.0\n",
       "2007    79238844.0\n",
       "2008    79903581.0\n",
       "2009    81432836.0\n",
       "2010    82055514.0\n",
       "Name: TotalDeaths, dtype: float64"
      ]
     },
     "execution_count": 31,
     "metadata": {},
     "output_type": "execute_result"
    }
   ],
   "source": [
    "by_year.head(10)"
   ]
  },
  {
   "cell_type": "code",
   "execution_count": 32,
   "metadata": {},
   "outputs": [],
   "source": [
    "# New dataframe, grouped by cause of death\n",
    "by_cause = combined.groupby('Cause')['TotalDeaths'].sum()"
   ]
  },
  {
   "cell_type": "code",
   "execution_count": 34,
   "metadata": {},
   "outputs": [],
   "source": [
    "by_year.to_csv(\"ByYear.csv\")\n",
    "by_country.to_csv(\"ByCountry.csv\")\n",
    "by_cause.to_csv(\"ByCause.csv\")\n"
   ]
  },
  {
   "cell_type": "code",
   "execution_count": null,
   "metadata": {},
   "outputs": [],
   "source": []
  }
 ],
 "metadata": {
  "kernelspec": {
   "display_name": "PFFA",
   "language": "python",
   "name": "python3"
  },
  "language_info": {
   "codemirror_mode": {
    "name": "ipython",
    "version": 3
   },
   "file_extension": ".py",
   "mimetype": "text/x-python",
   "name": "python",
   "nbconvert_exporter": "python",
   "pygments_lexer": "ipython3",
   "version": "3.10.6"
  },
  "orig_nbformat": 4,
  "vscode": {
   "interpreter": {
    "hash": "399689f5206e166815e40405ed65dd0e97259ee2ca1ffed9339ececf5393a85d"
   }
  }
 },
 "nbformat": 4,
 "nbformat_minor": 2
}
